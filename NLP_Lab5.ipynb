{
  "nbformat": 4,
  "nbformat_minor": 0,
  "metadata": {
    "colab": {
      "provenance": []
    },
    "kernelspec": {
      "name": "python3",
      "display_name": "Python 3"
    },
    "language_info": {
      "name": "python"
    }
  },
  "cells": [
    {
      "cell_type": "markdown",
      "source": [
        "Philosophy Stack Exchange Questions + Selected Answers"
      ],
      "metadata": {
        "id": "ij02quyYJQdG"
      }
    },
    {
      "cell_type": "markdown",
      "source": [
        "Links of the ten selected questions: \n",
        "\n",
        "\n",
        "1.   https://philosophy.stackexchange.com/questions/38375/logical-fallacy-x-is-bad-y-is-worse-thus-x-is-not-bad\n",
        "2.  https://philosophy.stackexchange.com/questions/77/can-you-prove-anything-in-philosophy\n",
        "\n",
        "\n"
      ],
      "metadata": {
        "id": "6rDSGKNh9Y0S"
      }
    },
    {
      "cell_type": "code",
      "execution_count": 63,
      "metadata": {
        "id": "5s_A7DIH84vu"
      },
      "outputs": [],
      "source": [
        "from post_parser_record import PostParserRecord\n",
        "import re\n",
        "import string"
      ]
    },
    {
      "cell_type": "code",
      "source": [
        "def collect_questions(post_reader, question_list):\n",
        "  question_info = {}\n",
        "  for question_id in question_list:\n",
        "    question = post_reader.map_questions[question_id]\n",
        "    title = question.title\n",
        "    # cleans the question body\n",
        "    body = question.body\n",
        "    cleanr = re.compile('<.*?>|\\n')\n",
        "    body = re.sub(cleanr, ' ', body)\n",
        "    body = body.replace('&amp;', '&')\n",
        "    topTag = question.tags[0]\n",
        "    accepted_answer_id = question.accepted_answer_id\n",
        "    answer = post_reader.map_just_answers[accepted_answer_id]\n",
        "    ans_body = answer.body\n",
        "    ans_body = re.sub(cleanr, '', ans_body)\n",
        "    ans_body = ans_body.replace('&amp;', '&')\n",
        "    question_info[question_id] = [title, body, title + \" \" + body, topTag, ans_body]\n",
        "  return question_info\n"
      ],
      "metadata": {
        "id": "VWAPQMsITkzg"
      },
      "execution_count": 64,
      "outputs": []
    },
    {
      "cell_type": "code",
      "source": [
        "post_file_path = \"/content/Posts.xml\"\n",
        "post_reader = PostParserRecord(post_file_path)\n",
        "question_ids = [38375, 77]\n",
        "question_info = collect_questions(post_reader, question_ids)"
      ],
      "metadata": {
        "id": "Vh_Qg2CsX2_x"
      },
      "execution_count": 65,
      "outputs": []
    },
    {
      "cell_type": "code",
      "source": [
        "#Showing accepted answers\n",
        "for question, info in question_info.items():\n",
        "  print(info[4])"
      ],
      "metadata": {
        "colab": {
          "base_uri": "https://localhost:8080/"
        },
        "id": "z-gb2QE8aCyE",
        "outputId": "d3f33628-0ab7-41bf-9f7f-67783b2f9c38"
      },
      "execution_count": 66,
      "outputs": [
        {
          "output_type": "stream",
          "name": "stdout",
          "text": [
            "This is (at least a subset of) the fallacy of relative privation.From Wikipedia >> List of Fallacies >> Red herring fallacies  Fallacy of relative privation (\"not as bad as\") – dismissing an  argument or complaint due to the existence of more important problems  in the world, regardless of whether those problems bear relevance to  the initial argument. For example, First World problem.RationalWiki adds  [Use of this fallacy is] popular with people who know perfectly well  they're doing something wrong; being fully aware that they're doing  something wrong, they feel compelled to attempt to justify it and do  so by pointing to other (usually worse) actions.A hypernym (again, RationalWiki) (emphasis mine) appears to be  Moral equivalence is a form of equivocation and a fallacy of relevance often used in political debates. It seeks to draw  comparisons between different, often unrelated things, to make a point  that one is just as bad as the other or just as good as the other. It  may be used to draw attention to an unrelated issue by comparing it to  a well-known bad event, in an attempt to say one is as bad as the  other. Or, it may be used in an attempt to claim one isn't as bad as  the other by comparison. Drawing a moral equivalence in this way is a  logical fallacy.\n",
            "There are two categories of things that can be proved in philosophy:That a thinking thing exists;The trivial truths of logic.I'll cover these in order. In fact, there are philosophical arguments you'll find against them both. The basic idea that 'a thinking thing exists' comes to us via the Ancient Greeks but became widely known and was made popular by Descartes in his Meditations.In this work he doubted everything he possibly could until he reached a base, the truth of which he could be absolutely certain. He thought it important to have a solid foundation to build his philosophical system on.  Archimedes used to demand just one  firm and immovable point in order to  shift the entire earth; so I too can  hope for great things if I manage to  find just one thing, however slight,  that is certain and unshakable.(Unfortunately he very quickly lost his way and went from this solid foundation to a very questionable argument for the existence of God.)Cogito ergo sum (\"I think therefore I am\") is the famous phrase from Descartes' Meditations. \"I think therefore I am\" is a stronger statement than \"A thinking thing exists\" so I have put the second forward for this answer.It is in the class of truths that are self-evident. Thinking about it proves its truth. In philosophy we can't do physical experiments to disprove our theories so we need to rely on thought experiments instead. This is an example of a thought experiment. I can't conceive of any logically possible way of this being self-contradictory, i.e. false. By simply doing that thinking I have proved the proposition's truth.The second class of provable things are the trivial truths of deductive logic. I'll divide this into two parts:The Laws of Thought - axiomatic laws that we should agree on before we can start discussing philosophy.The truths of propositional logic - these follow after we set up an axiomatic system.I'll cover these in turn, very briefly. I'll leave others to tear them down.The Laws of Thought as a collection are attributed, like so much in philosophy, to Aristotle. They are:The Law of Identity - an object is the same as itself - (A ≡ A).The Law of (Non)-Contradiction -  \"the same attribute cannot at the same time belong and not belong to the same subject and in the same respect\"1 - ¬(P ∧ ¬P).The Law of the Excluded Middle - \"it will not be possible to be and not to be the same thing... there cannot be an intermediate between contradictories, but of one subject we must either affirm or deny any one predicate.\"2 - (P ∨ ¬P).There are arguments against each of these.Propositional logic is a simple formal system. We define what is and isn't true via truth tables before we enter into discourse about it.A simple truth, by definition, in propositional logic is found in logical conjunction. Here's the truth table (from wikipedia):If both of its operands (p, q) are true the conjunction of them (p ∧ q) is also true.1Aristotle, Metaphysics. Aristotle claimed this as the most secure and unshakable of all principles.2Ibid.\n"
          ]
        }
      ]
    },
    {
      "cell_type": "markdown",
      "source": [
        "Question Title, Question Body, Question Top Tag, Question Selected Answer"
      ],
      "metadata": {
        "id": "vpsYnbAhJxQ_"
      }
    }
  ]
}