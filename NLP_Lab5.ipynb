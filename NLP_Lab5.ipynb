{
  "nbformat": 4,
  "nbformat_minor": 0,
  "metadata": {
    "colab": {
      "provenance": [],
      "toc_visible": true
    },
    "kernelspec": {
      "name": "python3",
      "display_name": "Python 3"
    },
    "language_info": {
      "name": "python"
    }
  },
  "cells": [
    {
      "cell_type": "markdown",
      "source": [
        "Philosophy Stack Exchange Questions + Selected Answers"
      ],
      "metadata": {
        "id": "ij02quyYJQdG"
      }
    },
    {
      "cell_type": "markdown",
      "source": [
        "Links of the ten selected questions: \n"
      ],
      "metadata": {
        "id": "6rDSGKNh9Y0S"
      }
    },
    {
      "cell_type": "code",
      "execution_count": null,
      "metadata": {
        "id": "5s_A7DIH84vu"
      },
      "outputs": [],
      "source": []
    },
    {
      "cell_type": "markdown",
      "source": [
        "Question Title, Question Body, Question Top Tag, Question Selected Answer"
      ],
      "metadata": {
        "id": "vpsYnbAhJxQ_"
      }
    }
  ]
}