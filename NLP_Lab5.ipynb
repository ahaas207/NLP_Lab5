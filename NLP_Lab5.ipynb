{
  "cells": [
    {
      "cell_type": "markdown",
      "metadata": {
        "id": "ij02quyYJQdG"
      },
      "source": [
        "Philosophy Stack Exchange Questions + Selected Answers"
      ]
    },
    {
      "cell_type": "markdown",
      "metadata": {
        "id": "6rDSGKNh9Y0S"
      },
      "source": [
        "Links of the ten selected questions: \n",
        "\n",
        "\n",
        "1.   https://philosophy.stackexchange.com/questions/65942/was-robin-hoods-point-of-view-ethically-sound\n",
        "2.  https://philosophy.stackexchange.com/questions/77/can-you-prove-anything-in-philosophy\n",
        "3. https://philosophy.stackexchange.com/questions/451/do-numbers-exist-independently-from-observers\n",
        "\n",
        "4. https://philosophy.stackexchange.com/questions/1012/what-is-the-difference-between-free-will-and-randomness-and-or-non-determinism\n",
        "5. https://philosophy.stackexchange.com/questions/4663/is-nothing-actually-imaginable\n",
        "\n",
        "6. https://philosophy.stackexchange.com/questions/93951/is-there-a-possibility-that-mind-still-exists-after-death\n",
        "\n",
        "7. https://philosophy.stackexchange.com/questions/87400/why-would-some-philosophers-consider-nietzsche-the-godfather-of-fascism\n",
        "\n",
        "8. https://philosophy.stackexchange.com/questions/78788/is-the-tyrannicide-perpetrated-by-william-tell-morally-legitimate\n",
        "\n",
        "9. https://philosophy.stackexchange.com/questions/22459/is-atheism-or-agnosticism-more-rational\n",
        "\n",
        "10. https://philosophy.stackexchange.com/questions/76015/is-stoicism-still-relevant-in-modern-world\n",
        "\n"
      ]
    },
    {
      "cell_type": "code",
      "execution_count": 71,
      "metadata": {
        "id": "5s_A7DIH84vu"
      },
      "outputs": [],
      "source": [
        "from post_parser_record import PostParserRecord\n",
        "import re\n",
        "import string"
      ]
    },
    {
      "cell_type": "code",
      "execution_count": 80,
      "metadata": {
        "id": "VWAPQMsITkzg"
      },
      "outputs": [],
      "source": [
        "def collect_questions(post_reader, question_list):\n",
        "  question_info = {}\n",
        "  for question_id in question_list:\n",
        "    question = post_reader.map_questions[question_id]\n",
        "    title = question.title\n",
        "    # cleans the question body\n",
        "    body = question.body\n",
        "    cleanr = re.compile('<.*?>|\\n')\n",
        "    body = re.sub(cleanr, ' ', body)\n",
        "    body = body.replace('&amp;', '&')\n",
        "    topTag = question.tags[0]\n",
        "    accepted_answer_id = question.accepted_answer_id\n",
        "    answer = post_reader.map_just_answers[accepted_answer_id]\n",
        "    ans_body = answer.body\n",
        "    ans_body = re.sub(cleanr, ' ', ans_body)\n",
        "    ans_body = ans_body.replace('&amp;', '&')\n",
        "    question_info[question_id] = [title, body, title + \" \" + body, topTag, ans_body]\n",
        "  return question_info\n"
      ]
    },
    {
      "cell_type": "code",
      "execution_count": 81,
      "metadata": {
        "id": "Vh_Qg2CsX2_x"
      },
      "outputs": [],
      "source": [
        "post_file_path = \"/content/Posts.xml\"\n",
        "post_reader = PostParserRecord(post_file_path)\n",
        "question_ids = [65942, 77, 451, 1012, 4663, 93951, 87400, 78788, 22459, 76015]\n",
        "question_info = collect_questions(post_reader, question_ids)"
      ]
    },
    {
      "cell_type": "code",
      "execution_count": 83,
      "metadata": {
        "colab": {
          "base_uri": "https://localhost:8080/"
        },
        "id": "z-gb2QE8aCyE",
        "outputId": "0c7cee56-f9da-4620-9861-0a0a4fa734c2"
      },
      "outputs": [
        {
          "name": "stdout",
          "output_type": "stream",
          "text": [
            "\n",
            "Question:  Was Robin Hood's point of view ethically sound?\n",
            "Accepted Answer:    One of the most fascinating and unexpected questions I have come across on PSE. But I have in an entirely friendly spirit some criticisms to offer:   Free markets and cunning     if we assume a free market exists, regardless of how he redistributes wealth, a disparity will return over time based on competitive behaviour determining the most cunning individuals, so his efforts were in vain even despite them being misguided.     Nozick uses this style of argument in  Anarchy, State, and Utopia  (1974) but he does not attribute 'cunning' to his free-marketeers. Nor is there any need to do so. In a free market there are winners and losers, hence 'disparity'.   Also what is the status of 'disparity will return over time based on competitive behaviour determining the most cunning individuals' ? Is it is necessary or contingent truth about humankind, an empirical generalisation about the distinctive behaviour to expected in a free market, or ... what ?   Anecdotal inductive generalisation     he did not spend any amount of time assessing the morality of the lower class he endowed with wealth. I reference the many studies conducted concerning the decisions made by low income earners after having won the lottery.     Morality - or prudential self-interest ?   There is simply not enough organised and analysed data to support a specific link between winning (presumably substantial or mega) lotteries and subsequent behaviour - moral, immoral, sensible or foolish.   Nepotism   The idea, I take it, is that even if disparties do or did not arise through free-market transactions, they would still do so through nepotism. You appear to assume that an inclination to nepotism is intrinsic to human nature but (whatever my own views about nepotism or even human nature if there is such a thing) you state that the elimination of  nepotism is impossible and present this assumption as, here at least, an unsupported 'belief'. I don't contest the belief or endorse it either but would appreciate, as I'm sure with others, some indication of its grounds.   But hey, this is a good question !  \n",
            "\n",
            "Question:  Can you prove anything in philosophy?\n",
            "Accepted Answer:    There are two categories of things that can be proved in philosophy:      That a thinking thing exists;   The trivial truths of logic.      I'll cover these in order. In fact, there  are  philosophical arguments you'll find against them both. The basic idea that 'a thinking thing exists' comes to us via the Ancient Greeks but became widely known and was made popular by Descartes in his   Meditations  .    In this work he doubted everything he possibly could until he reached a base, the truth of which he could be absolutely certain. He thought it important to have a solid foundation to build his philosophical system on.        Archimedes used to demand just one   firm and immovable point in order to   shift the entire earth; so I too can   hope for great things if I manage to   find just one thing, however slight,   that is certain and unshakable.      (Unfortunately he very quickly lost his way and went from this solid foundation to a very questionable argument for the existence of God.)     Cogito ergo sum  (\"I think therefore I am\") is the famous phrase from Descartes'  Meditations . \"I think therefore I am\" is a stronger statement than \"A thinking thing exists\" so I have put the second forward for this answer.    It is in the class of truths that are self-evident. Thinking about it proves its truth. In philosophy we can't do physical experiments to disprove our theories so we need to rely on thought experiments instead. This is an example of a thought experiment. I can't conceive of any logically possible way of this being self-contradictory, i.e. false. By simply doing that thinking I have proved the proposition's truth.       The second class of provable things are the trivial truths of deductive logic. I'll divide this into two parts:      The Laws of Thought - axiomatic laws that we should agree on before we can start discussing philosophy.   The truths of propositional logic - these follow after we set up an axiomatic system.      I'll cover these in turn, very briefly. I'll leave others to tear them down.    The Laws of Thought as a collection are attributed, like so much in philosophy, to Aristotle. They are:      The Law of Identity - an object is the same as itself - (A ≡ A).   The Law of (Non)-Contradiction -  \"the same attribute cannot at the same time belong and not belong to the same subject and in the same respect\" 1  - ¬(P ∧ ¬P).   The Law of the Excluded Middle - \"it will not be possible to be and not to be the same thing... there cannot be an intermediate between contradictories, but of one subject we must either affirm or deny any one predicate.\" 2  - (P ∨ ¬P).      There are arguments against each of these.    Propositional logic is a simple formal system. We define what is and isn't true via  truth tables  before we enter into discourse about it.    A simple truth, by definition, in propositional logic is found in logical conjunction. Here's the truth table ( from wikipedia ):         If both of its operands (p, q) are true the conjunction of them (p ∧ q) is also true.        1 Aristotle,  Metaphysics . Aristotle claimed this as the most secure and unshakable of all principles.     2 Ibid.  \n",
            "\n",
            "Question:  Do numbers exist independently from observers?\n",
            "Accepted Answer:    The literature on these questions is immense, starting from Plato all the way to the modern mathematical logicians. Since your question is about the  existence  of numbers, you are concerned with the  ontological  status of numbers. So, with ontology in mind, you can distinguish the following schools of thought, according to the answer they give to your question.       YES :  Mathematical Platonism . This school contends that mathematical objects exist independently of our being able to conceptualize them. Although few philosophers are willing to espouse this view anymore, it has had many notable proponents, even amongst logicians.  Kurt Godel  is perhaps the most famous example.    NO :  Intuitionism . Very roughly, intuitionism argues that mathematical objects are mental constructions communicable by convention. So the practice of mathematics and mathematical comprehension is a uniquely human event that ceases to exist when human minds disappear.     AMBIGUOUS :  Nominalism ,  Formalism  and  Logicism . There are several variations, reconstructions and weakenings of these positions that can be taken to occupy either side of the debate.     In the case of logicism, the answer depends on how you regard the ontological status of logic. Fregean and Russellian logicism as well as the early Wittgenstein undoubtedly thought that logic is in some sense what is given to us by the world and that, therefore, numbers do have some objective existence.     Formalism is ambiguous in the sense that although it is  prima facie  anti-realist because the naive formalist is taken to hold that mathematics is nothing other than systematic manipulation of symbols (which of course can only exist if human do) Hilbert himself (the originator of the position) held no such naive view. For Hilbert, there was a real core of mathematics (he called it 'real mathematics') that he believed was directly accessible by out intuition - this included basic arithmetic (1+1=2) as well as single-quantifier generalizations (For all x, x+1=1+x). And that sounds more realist.    Nominalism can similarly be seen as denying that set theory exists, but affirming the existence of numbers, or can be read as denying the independent existence of numbers altogether.        This is a broad outline of schools that have arisen out of convincing arguments proposed in answer to your question. Many of the arguments are compelling, all of them are interesting. I should also note that people like  Alain Badiou  (who says: 'Mathematics is Ontology') have also tried to answer the question from non-theoretical and less analytic perspectives. I am not familiar enough with such work to assess it, but it certainly sounds interesting.  \n",
            "\n",
            "Question:  What is the difference between free-will and randomness and or non-determinism?\n",
            "Accepted Answer:    Let us imagine a simple case.  We have three tiny people, each of whom is placed in a box with a pencil and a limitless supply of slips of paper.  Every minute, they each write a number on a slip of paper, and slide it out through a slot in their box.    One of these people has \"free will\".  By this we mean that the person can choose to write any number he or she feels like.      Another of these people has a book of predetermined numbers in the box, and is instructed to copy these numbers onto the slips of paper in sequence.    The third person has a source of entropy-- let us say a lava lamp-- and copies numbers based upon a suitable formula applied to an element of the entropic source.    Given this scenario, a few things become evident.    First of all: there is no way-- and I mean absolutely no way-- that we can rigorously determine which of the three boxes contains which of the three people based upon the numbers output.  We don't know which of the number streams is the product of free will, which is the product of a determined process, and which is the product of chance.    Second: upon closer examination, we see that each of the three alternatives is actually problematic, even if we  know  which person is in which box.  The predetermined list is following a deterministic process in that it is copying numbers from a book, but we don't know where the numbers in the book came from in the first place.  Were they freely chosen, randomly chosen, or determined according to some other process?  We can't tell (due to #1 above).  Similarly, the allegedly random numbers are coming from a source of entropy (such as a lava lamp), but how can we tell if this is truly random, or if it is determinate?  Can we be absolutely certain that there is no physico-mathematical model that will accurately predict the movement of the fluid?  Finally, the alleged \"free choice\" was made by a person according to what he or she \"feels like\" choosing, but where do these feelings come from?  Can we be certain that there is not a deterministic process that is controlling the brain chemistry and synapse-firing to cause certain numbers to be chosen?    So, where are we, then?    We are left with the sad fact that we have no means by which to provide a rigorous definition for any of the terms involved, and must rely purely on our intuitive sense of what they mean in context.    Fortunately, this is not really a problem, since the so-called problem of free will isn't really much of a problem, anyway.  It certainly  appears  to us that we have free will, and our actions are predicated on that belief.  If that belief is erroneous, precisely nothing changes in our actions-- it cannot, because if the belief is erroneous and our actions are determined, well, then they are determined and are what they would have been.  So, at the end of the day, it is much ado about nothing.  \n",
            "\n",
            "Question:  Is Nothing actually imaginable?\n",
            "Accepted Answer:    Based on your last paragraph, you might be interested in Thomas Nagel's  The View From Nowhere . In that, he argues that it is impossible to achieve a completely objective perspective--- what he calls the  View From Nowhere . This isn't directly related to your first paragraph, but something you might enjoy.    As to your first paragraph, you might find this  book  interesting. Locke had some interesting ideas about the limits of imagination. For him, what is imagined is always some manipulation of things actually experienced. So, for example, you can only imagine a Centaur (half-man, half-horse) because you have experience of both a man and a horse--- or at least things relevantly similar.    A similar sentiment is echoed in Descartes's  First Meditation . Check out section 6 and the discussion of painters.    As to imagining \"Nothing\", I'm inclined, along with you, to think that this is impossible. It seems to be no different than thinking about nothing. But then it seems like there is something you are thinking about, namely,  nothing !    UPDATE: It occurred to me that given the Ontology tag in your question, and given that my last paragraph is mostly based on my own idiosyncratic views about existence and reference, I should bring in some considerations from the seminal article on ontology, Quine's  \"On What There Is\" . Your questions about nothing, and my own reasons for thinking that imagining nothing is impossible, bear a striking resemblance to the problem of negative existentials. Some philosophers, notably the Meinongians, have thought that there are some things that have the property of \"not existing\". So, they would analyze negative existentials like \"There are no unicorns\" as expressing the sentence \"There is something such that it is a unicorn and it doesn't exist\". They could do this because they distinguished between two senses of \"there is\". One, the one familiar to us from Quine, is to read \"there is\" as expressing the existential quantifier. Anything that \"there is\", in this sense, exists. Now, the other sense of \"there is\" is subsistence. They thought that there are some things (like unicorns, for example) that  subsist  but do not  exist .     Quine thought that this talk of there being things that don't exist was a bunch of nonsense. He held that \"there is\" only expresses the existential quantifier and that anything there is  must  exist (as an aside, he famously, but uninformatively, answers the question \"What is there?\" with \"Everything\"). But then how did he analyze our earlier sentence about unicorns? He would analyze is thusly: \"It is not the case that there exists something such that it is a unicorn\" (sorry for the quasi-logic speak, I really want to regiment this in first-order logic  a la  Quine, but can't seem to get MathJax to work on this SE). For Quine, this sentence carries no presupposition of anything's existence, much less of a unicorn which subsists but does not exist.    Bringing this back to the original question about \"Nothing\". If I put on my Quine Hat, I might say that to imagine nothing is simply for it to not be the case that you are imagining something. But that isn't very helpful, is it? Well, let's suppose (as we seem to be supposing in this example) that imagination is  object oriented , so that whenever we imagine, there is some object of our imagination. What this pseudo-Quinean view would hold, then, is that to imagine nothing is simply to not be imagining any particular thing or collection of things. So, for example, a dead person is imagining nothing. I imagine (chuckle) that this view would deny any \"objecthood\" to \"Nothing\".  \n"
          ]
        }
      ],
      "source": [
        "#Showing accepted answers\n",
        "for question, info in question_info.items():\n",
        "  print()\n",
        "  print(\"Question:  \" + str(info[0]))\n",
        "  print(\"Accepted Answer:   \" + str(info[4]))"
      ]
    },
    {
      "cell_type": "markdown",
      "metadata": {
        "id": "vpsYnbAhJxQ_"
      },
      "source": [
        "Question Title, Question Body, Question Top Tag, Question Selected Answer"
      ]
    }
  ],
  "metadata": {
    "colab": {
      "provenance": []
    },
    "kernelspec": {
      "display_name": "Python 3",
      "name": "python3"
    },
    "language_info": {
      "name": "python"
    }
  },
  "nbformat": 4,
  "nbformat_minor": 0
}
